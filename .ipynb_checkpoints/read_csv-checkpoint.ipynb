{
 "cells": [
  {
   "cell_type": "code",
   "execution_count": null,
   "metadata": {},
   "outputs": [],
   "source": [
    "# First we'll import the os module\n",
    "# This will allow us to create file paths across operating systems\n",
    "import os\n",
    "\n",
    "# Module for reading CSV files\n",
    "import csv"
   ]
  },
  {
   "cell_type": "code",
   "execution_count": null,
   "metadata": {},
   "outputs": [],
   "source": [
    "csvpath = os.path.join('Resources', 'accounting.csv')\n"
   ]
  },
  {
   "cell_type": "code",
   "execution_count": null,
   "metadata": {},
   "outputs": [],
   "source": [
    "# Method 1: Improved Reading using CSV module\n",
    "\n",
    "with open(csvpath, newline='') as csvfile:\n",
    "\n",
    "    # CSV reader specifies delimiter and variable that holds contents\n",
    "    csvreader = csv.reader(csvfile, delimiter=',')\n",
    "\n",
    "    print(csvreader)\n",
    "    \n",
    "    #initialize rowcount = 0\n",
    "    rowcount = 0\n",
    "    \n",
    "    \n",
    "    #initialize isheader - must look in file to determine if there is a header present (True or False)\n",
    "    isheader = True\n",
    "    \n",
    "    \n",
    "    # Read each row of data after the header\n",
    "    #initialize header and otherrows lists to store data\n",
    "    header = []\n",
    "    otherrows= []\n",
    "    \n",
    "    \n",
    "    for row in csvreader:\n",
    "        #prints everyrow\n",
    "        print(row)\n",
    "        \n",
    "        #stores header row for the first row if there is a header in the file (MUST LOOK TO BE SURE)\n",
    "        if(rowcount == 0 and isheader == True):\n",
    "            header.append(row)\n",
    "            \n",
    "        #stores non-header row\n",
    "        else:\n",
    "            otherrows.append(row)\n",
    "        \n",
    "        #iterate rowcount\n",
    "        rowcount = rowcount + 1"
   ]
  },
  {
   "cell_type": "code",
   "execution_count": null,
   "metadata": {},
   "outputs": [],
   "source": [
    "print(header)"
   ]
  },
  {
   "cell_type": "code",
   "execution_count": null,
   "metadata": {},
   "outputs": [],
   "source": [
    "print(otherrows)"
   ]
  },
  {
   "cell_type": "code",
   "execution_count": null,
   "metadata": {},
   "outputs": [],
   "source": []
  }
 ],
 "metadata": {
  "kernelspec": {
   "display_name": "Python 3",
   "language": "python",
   "name": "python3"
  },
  "language_info": {
   "codemirror_mode": {
    "name": "ipython",
    "version": 3
   },
   "file_extension": ".py",
   "mimetype": "text/x-python",
   "name": "python",
   "nbconvert_exporter": "python",
   "pygments_lexer": "ipython3",
   "version": "3.8.5"
  }
 },
 "nbformat": 4,
 "nbformat_minor": 4
}
